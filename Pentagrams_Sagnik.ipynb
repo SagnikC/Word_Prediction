{
 "cells": [
  {
   "cell_type": "markdown",
   "metadata": {},
   "source": [
    "## Defining the dictionaries"
   ]
  },
  {
   "cell_type": "code",
   "execution_count": 7,
   "metadata": {
    "collapsed": false
   },
   "outputs": [],
   "source": [
    "number = 1\n",
    "vocab = {}\n",
    "quadgram = {}\n",
    "pentagram = {}\n",
    "probab = {}"
   ]
  },
  {
   "cell_type": "markdown",
   "metadata": {},
   "source": [
    "## Function : Create pentagram dictionary"
   ]
  },
  {
   "cell_type": "code",
   "execution_count": 8,
   "metadata": {
    "collapsed": true
   },
   "outputs": [],
   "source": [
    "def add_pentagrams(pentagrams):\n",
    "    for pent in pentagrams:\n",
    "        stri = ' '.join(pent)\n",
    "        if stri not in pentagram:\n",
    "            pentagram[stri] = 1;\n",
    "        else:\n",
    "            pentagram[stri] = pentagram[stri] + 1"
   ]
  },
  {
   "cell_type": "markdown",
   "metadata": {},
   "source": [
    "## Function : Create quadgram dictionary"
   ]
  },
  {
   "cell_type": "code",
   "execution_count": 9,
   "metadata": {
    "collapsed": true
   },
   "outputs": [],
   "source": [
    "def add_quadgrams(quadgrams):\n",
    "    for quad in quadgrams:\n",
    "        stri = ' '.join(quad)\n",
    "        if stri not in quadgram:\n",
    "            quadgram[stri] = 1;\n",
    "        else:\n",
    "            quadgram[stri] = quadgram[stri] + 1"
   ]
  },
  {
   "cell_type": "markdown",
   "metadata": {},
   "source": [
    "## Function : Create vocabulary list"
   ]
  },
  {
   "cell_type": "code",
   "execution_count": 10,
   "metadata": {
    "collapsed": true
   },
   "outputs": [],
   "source": [
    "def create_token_list(tokens):\n",
    "    newlist=[]\n",
    "    global number\n",
    "    for word in tokens:\n",
    "        if word:\n",
    "            if word not in vocab: \n",
    "                vocab[str(word)] = number\n",
    "                number = number + 1\n",
    "            newlist.append(str(vocab[word]))\n",
    "    return newlist"
   ]
  },
  {
   "cell_type": "markdown",
   "metadata": {},
   "source": [
    "## Function : Remove punctuations and tokenize the corpus"
   ]
  },
  {
   "cell_type": "code",
   "execution_count": 11,
   "metadata": {
    "collapsed": true
   },
   "outputs": [],
   "source": [
    "import string\n",
    "import re\n",
    "def tokenize(text, ngrams):\n",
    "    for c in string.punctuation:\n",
    "        if c!='\\'':\n",
    "            text=text.replace(c,\" \")\n",
    "    text = text.replace(\"' \",\" \")\n",
    "    answer = text.lower()\n",
    "    tokens = answer.split(' ')\n",
    "    tokens = create_token_list(tokens)\n",
    "    #print(tokens)\n",
    "    return [tuple(tokens[i:i+ngrams]) for i in range(len(tokens)-ngrams+1)]"
   ]
  },
  {
   "cell_type": "markdown",
   "metadata": {},
   "source": [
    "## Call other functions and create probability dictionary"
   ]
  },
  {
   "cell_type": "code",
   "execution_count": 13,
   "metadata": {
    "collapsed": false
   },
   "outputs": [
    {
     "name": "stdout",
     "output_type": "stream",
     "text": [
      "1 loop, best of 3: 15.6 s per loop\n"
     ]
    }
   ],
   "source": [
    "%%timeit\n",
    "with open('corpusfile.txt',buffering=20000,encoding='utf-8') as f:\n",
    "    for line in f:      \n",
    "        data = tokenize(line,4)\n",
    "        add_quadgrams(data)\n",
    "        data = tokenize(line,5)\n",
    "        add_pentagrams(data)\n",
    "        for pent in data:\n",
    "            stri = ' '.join(pent)\n",
    "            s = stri.split()\n",
    "            del s[-1]\n",
    "            probab[stri] = pentagram[stri]/quadgram[' '.join(s)]\n",
    "f.close()"
   ]
  },
  {
   "cell_type": "markdown",
   "metadata": {},
   "source": [
    "## Take input from user"
   ]
  },
  {
   "cell_type": "code",
   "execution_count": 24,
   "metadata": {
    "collapsed": false
   },
   "outputs": [
    {
     "name": "stdout",
     "output_type": "stream",
     "text": [
      "Enter text : friend of the\n"
     ]
    }
   ],
   "source": [
    "inp = input('Enter text : ')\n",
    "for c in string.punctuation:\n",
    "    if c!='\\'':\n",
    "        inp=inp.replace(c,\" \")\n",
    "inp = inp.replace(\"' \",\" \")\n",
    "inp = inp.lower()\n",
    "inp = inp.split()"
   ]
  },
  {
   "cell_type": "markdown",
   "metadata": {},
   "source": [
    "## Prediction performed"
   ]
  },
  {
   "cell_type": "code",
   "execution_count": 25,
   "metadata": {
    "collapsed": false
   },
   "outputs": [
    {
     "name": "stdout",
     "output_type": "stream",
     "text": [
      "family\n",
      "family\n",
      "family\n",
      "family\n",
      "1 loop, best of 3: 1.24 s per loop\n"
     ]
    }
   ],
   "source": [
    "%%timeit\n",
    "numbers = []\n",
    "flag = 0\n",
    "for word in inp:\n",
    "    if word in vocab:\n",
    "        numbers.append(str(vocab[word]))\n",
    "    else:\n",
    "        flag = 1\n",
    "        break\n",
    "if flag == 1:\n",
    "    print(\"Flag = 1. No word could be predicted\")\n",
    "else:\n",
    "    search = ' '.join(numbers)\n",
    "    #print(search)\n",
    "    max = 0\n",
    "    predict = \"\"\n",
    "    for key in probab:\n",
    "        quad = key.split(' ')\n",
    "        last = quad[-1]\n",
    "        del quad[-1]\n",
    "        tri = ' '.join(quad)\n",
    "        if tri==search:\n",
    "            value = float(probab[key])\n",
    "            if value > max:\n",
    "                max = value\n",
    "                predict = last\n",
    "            #print(key)\n",
    "    if max==0:\n",
    "        print(\" Max = 0. No word could be predicted\")\n",
    "    else:\n",
    "        print(list(vocab.keys())[int(predict) - 1])"
   ]
  }
 ],
 "metadata": {
  "kernelspec": {
   "display_name": "Python 3",
   "language": "python",
   "name": "python3"
  },
  "language_info": {
   "codemirror_mode": {
    "name": "ipython",
    "version": 3
   },
   "file_extension": ".py",
   "mimetype": "text/x-python",
   "name": "python",
   "nbconvert_exporter": "python",
   "pygments_lexer": "ipython3",
   "version": "3.6.0"
  }
 },
 "nbformat": 4,
 "nbformat_minor": 2
}
